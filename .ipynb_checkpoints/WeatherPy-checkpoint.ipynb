{
 "cells": [
  {
   "cell_type": "markdown",
   "metadata": {},
   "source": [
    "What's the Weather Like by Greg Roschel\n",
    "-----------------------------------------------------------"
   ]
  },
  {
   "cell_type": "code",
   "execution_count": 1,
   "metadata": {
    "scrolled": true
   },
   "outputs": [],
   "source": [
    "# Dependencies and Setup\n",
    "\n",
    "# Include this cell for interactive plots\n",
    "%matplotlib notebook  \n",
    "\n",
    "# Other Dependencies\n",
    "import os  \n",
    "import matplotlib.pyplot as plt\n",
    "import pandas as pd\n",
    "import numpy as np\n",
    "import requests\n",
    "import time\n",
    "import json  \n",
    "from pprint import pprint  \n",
    "import datetime\n",
    "\n",
    "# Import the Open Weather API key\n",
    "from api_keys import ow_api_key\n",
    "\n",
    "# Incorporated citipy to determine city based on latitude and longitude\n",
    "from citipy import citipy\n",
    "\n",
    "# Output File (CSV)\n",
    "output_data_file = \"cities_weather_data.csv\"\n",
    "\n",
    "# Range of latitudes and longitudes\n",
    "lat_range = (-90, 90)\n",
    "lng_range = (-180, 180)"
   ]
  },
  {
   "cell_type": "markdown",
   "metadata": {},
   "source": [
    "## Generate Cities List"
   ]
  },
  {
   "cell_type": "code",
   "execution_count": null,
   "metadata": {},
   "outputs": [],
   "source": [
    "# Generate a list of cities by name from Citipy from a randomly generated list of latitudes & longitudes\n",
    "\n",
    "# List for holding lat_lngs and cities\n",
    "lat_lngs = []\n",
    "cities = []\n",
    "\n",
    "# Create a set of random lat and lng combinations\n",
    "lats = np.random.uniform(low=-90.000, high=90.000, size=1500)\n",
    "lngs = np.random.uniform(low=-180.000, high=180.000, size=1500)\n",
    "lat_lngs = zip(lats, lngs)\n",
    "\n",
    "# Identify nearest city for each lat, lng combination\n",
    "for lat_lng in lat_lngs:\n",
    "    city = citipy.nearest_city(lat_lng[0], lat_lng[1]).city_name\n",
    "    # citipy.nearest_city(lat_lng[0] is the latitude of the city\n",
    "    # citipy.nearest_city(lat_lng[1] is the longitude of the city\n",
    "    \n",
    "    # If the city is unique (not already in our collection of cities list), then add it to our cities list\n",
    "    if city not in cities:\n",
    "        cities.append(city)\n",
    "\n",
    "# Print the city count to confirm sufficient count\n",
    "print(f\"The city count is: {len(cities)}\")\n",
    "print()\n",
    "if len(cities) < 500:\n",
    "    print(f\"We've acquired less than 500 cities. That does not meet our minimum requirements\")\n",
    "else:\n",
    "    print(f\"We've acquired at least 500 cities; we're good to go!\")"
   ]
  },
  {
   "cell_type": "markdown",
   "metadata": {},
   "source": [
    "### Perform API Calls\n",
    "* Perform a weather check on each city using a series of successive API calls.\n",
    "* Include a print log of each city as it'sbeing processed (with the city number and city name)."
   ]
  },
  {
   "cell_type": "code",
   "execution_count": null,
   "metadata": {},
   "outputs": [],
   "source": [
    "# Access the Open Weather API to get the weather for each of our randomly generated cities\n",
    "\n",
    "# Set up some initial variables used to access the Open Weather API\n",
    "ow_url = \"http://api.openweathermap.org/data/2.5/weather?\"\n",
    "units = \"imperial\"\n",
    "\n",
    "# Build the query URL\n",
    "query_url = f\"{ow_url}appid={ow_api_key}&units={units}&q=\"  \n",
    "\n",
    "# Get weather data - for testing purposes only\n",
    "# weather_response = requests.get(query_url)\n",
    "# weather_json = weather_response.json()  \n",
    "# weather_json\n",
    "\n",
    "# set up lists to hold open weather API reponse info\n",
    "city_out = []\n",
    "clouds = []\n",
    "country = []\n",
    "date = []\n",
    "humidity = []\n",
    "lat = []\n",
    "lng = []\n",
    "max_temp = []\n",
    "wind_speed = []\n",
    "\n",
    "# Initialize Variables\n",
    "city_count = 0\n",
    "city_found_count = 0\n",
    "city_not_found_count = 0\n",
    "\n",
    "print(\"Beginning Weather Data Retrieval:\")\n",
    "print(\"---------------------------------\")\n",
    "\n",
    "# Loop through the list of cities and perform a request for data on each\n",
    "for city in cities:\n",
    "    city_count += 1\n",
    "    try:\n",
    "        response = requests.get(query_url + city).json()\n",
    "        city_out.append(response['name'])\n",
    "        clouds.append(response['clouds']['all'])\n",
    "        country.append(response['sys']['country'])\n",
    "        date.append(response['dt'])\n",
    "        humidity.append(response['main']['humidity'])\n",
    "        lat.append(response['coord']['lat'])\n",
    "        lng.append(response['coord']['lon'])\n",
    "        max_temp.append(response['main']['temp_max'])\n",
    "        wind_speed.append(response['wind']['speed'])\n",
    "        city_found_count += 1\n",
    "        print(f\"Processing city #{city_count} - City Name: {response['name']}\")\n",
    "    except KeyError:\n",
    "        city_not_found_count += 1\n",
    "        print(f\"Processing city #{city_count} - City Name: {city} - not found in Open Weather API Database. Skipping...\") \n",
    "\n",
    "print(\"Weather Data Retrieval Complete\")\n",
    "print(\"-------------------------------\")\n",
    "print()\n",
    "print(f\"Number of cities processed is: {len(cities)}\")\n",
    "print(f\"Number of cities found in Open Weather API Database is: {city_found_count}\")\n",
    "print(f\"Number of cities not found in Open Weather API Database is: {city_not_found_count}\")              "
   ]
  },
  {
   "cell_type": "markdown",
   "metadata": {},
   "source": [
    "### Convert Raw Data to DataFrame\n",
    "* Export the city data into a .csv.\n",
    "* Display the DataFrame"
   ]
  },
  {
   "cell_type": "code",
   "execution_count": null,
   "metadata": {},
   "outputs": [],
   "source": [
    "# Verify the length of the lists where out weather data is stored\n",
    "print()\n",
    "print(\"Verifying list lengths:\")\n",
    "print(\"-----------------------\")\n",
    "print(f\"city_out list length = {len(city_out)}\")\n",
    "print(f\"clouds list length = {len(clouds)}\")\n",
    "print(f\"country list length = {len(country)}\")\n",
    "print(f\"date list length = {len(date)}\")\n",
    "print(f\"humidity list length = {len(humidity)}\")\n",
    "print(f\"lat list length = {len(lat)}\")\n",
    "print(f\"lng list length = {len(lng)}\")\n",
    "print(f\"max_temp list length = {len(max_temp)}\")\n",
    "print(f\"wind_speed list length = {len(wind_speed)}\")\n",
    "print()\n",
    "\n",
    "# Create a DataFrame\n",
    "weather_dict = {\n",
    "    \"City\": city_out,\n",
    "    \"Cloudiness\": clouds,\n",
    "    \"Country\": country,\n",
    "    \"Date\": date,\n",
    "    \"Humidity\": humidity,\n",
    "    \"Latitude\": lat,\n",
    "    \"Longitude\": lng,\n",
    "    \"Max Temp\": max_temp,\n",
    "    \"Wind Speed\": wind_speed    \n",
    "}\n",
    "weather_data = pd.DataFrame(weather_dict)\n",
    "print(f\"There are {len(weather_data)} records in our Weather Data Data Frame\")\n",
    "weather_data.head(10)"
   ]
  },
  {
   "cell_type": "code",
   "execution_count": null,
   "metadata": {},
   "outputs": [],
   "source": [
    "# Wrtite the data frame out to a csv file\n",
    "weather_data.to_csv(output_data_file, index=False, header=True)"
   ]
  },
  {
   "cell_type": "markdown",
   "metadata": {},
   "source": [
    "### Plotting the Data\n",
    "* Use proper labeling of the plots using plot titles (including date of analysis) and axes labels.\n",
    "* Save the plotted figures as .pngs."
   ]
  },
  {
   "cell_type": "markdown",
   "metadata": {},
   "source": [
    "#### Latitude vs. Temperature Plot"
   ]
  },
  {
   "cell_type": "code",
   "execution_count": null,
   "metadata": {},
   "outputs": [],
   "source": [
    "# Create a title, x label, and y label for our chart\n",
    "now = datetime.datetime.now()\n",
    "today = f\"{now.month}/{now.day}/{now.year}\"\n",
    "plt.title(\"City Latitude vs. Max Temperature on \" + today, pad=15, fontsize=14)\n",
    "plt.xlabel(\"Latitude\")\n",
    "plt.ylabel(\"Max Temperature (F)\")\n",
    "plt.grid()\n",
    "\n",
    "# Set x & y coordinate limits\n",
    "plt.xlim(min(weather_data['Latitude']*0.95), max(weather_data['Latitude']*1.05))  \n",
    "plt.ylim(min(weather_data['Max Temp']*0.95), max(weather_data['Max Temp']*1.05))  \n",
    "\n",
    "# Plot it\n",
    "plt.scatter(x=weather_data[\"Latitude\"], y=weather_data[\"Max Temp\"], marker=\"o\", facecolors=\"red\", edgecolors=\"black\", alpha=0.8) \n",
    "\n",
    "# Save an image of the chart and print to screen\n",
    "plt.savefig(\"latitude_temperature_plot.png\")\n",
    "\n",
    "# Print the scatter plot to the screen\n",
    "plt.show()  "
   ]
  },
  {
   "cell_type": "markdown",
   "metadata": {},
   "source": [
    "#### Latitude vs. Humidity Plot"
   ]
  },
  {
   "cell_type": "code",
   "execution_count": null,
   "metadata": {},
   "outputs": [],
   "source": [
    "# Create a title, x label, and y label for our chart\n",
    "plt.title(\"City Latitude vs. Humidity on \" + today, pad=15, fontsize=14)\n",
    "plt.xlabel(\"Latitude\")\n",
    "plt.ylabel(\"Humidity (%)\")  \n",
    "plt.grid()\n",
    "\n",
    "# Set x & y coordinate limits\n",
    "plt.xlim(min(weather_data['Latitude']*0.95), max(weather_data['Latitude']*1.05))  \n",
    "plt.ylim(-5, max(weather_data['Humidity']*1.05))  \n",
    "\n",
    "# Plot it\n",
    "plt.scatter(x=weather_data[\"Latitude\"], y=weather_data[\"Humidity\"], marker=\"o\", facecolors=\"orange\", edgecolors=\"black\", alpha=0.8) \n",
    "\n",
    "# Save an image of the chart and print to screen\n",
    "plt.savefig(\"latitude_humidity_plot.png\")\n",
    "\n",
    "# Print the scatter plot to the screen\n",
    "plt.show()  "
   ]
  },
  {
   "cell_type": "markdown",
   "metadata": {},
   "source": [
    "#### Latitude vs. Cloudiness Plot"
   ]
  },
  {
   "cell_type": "code",
   "execution_count": null,
   "metadata": {},
   "outputs": [],
   "source": [
    "# Create a title, x label, and y label for our chart\n",
    "plt.title(\"City Latitude vs. Cloudiness on \" + today, pad=15, fontsize=14)\n",
    "plt.xlabel(\"Latitude\")\n",
    "plt.ylabel(\"Cloudiness (%)\")  \n",
    "\n",
    "# Set x & y coordinate limits\n",
    "plt.xlim(min(weather_data['Latitude']*0.95), max(weather_data['Latitude']*1.05))  \n",
    "plt.ylim(-5, max(weather_data['Cloudiness']*1.05))  \n",
    "plt.grid()\n",
    "\n",
    "# Plot it\n",
    "plt.scatter(x=weather_data[\"Latitude\"], y=weather_data[\"Cloudiness\"], marker=\"o\", facecolors=\"blue\", edgecolors=\"black\", alpha=0.8) \n",
    "\n",
    "# Save an image of the chart and print to screen\n",
    "plt.savefig(\"latitude_cloudiness_plot.png\")\n",
    "\n",
    "# Print the scatter plot to the screen\n",
    "plt.show()  "
   ]
  },
  {
   "cell_type": "markdown",
   "metadata": {},
   "source": [
    "#### Latitude vs. Wind Speed Plot"
   ]
  },
  {
   "cell_type": "code",
   "execution_count": null,
   "metadata": {},
   "outputs": [],
   "source": [
    "# Create a title, x label, and y label for our chart\n",
    "plt.title(\"City Latitude vs. Wind Speed on \" + today, pad=15, fontsize=14)\n",
    "plt.xlabel(\"Latitude\")\n",
    "plt.ylabel(\"Wind Speed (mph)\")  \n",
    "\n",
    "# Set x & y coordinate limits\n",
    "plt.xlim(min(weather_data['Latitude']*0.95), max(weather_data['Latitude']*1.05))  \n",
    "plt.ylim(-1, max(weather_data['Wind Speed']*1.05))  \n",
    "plt.grid()\n",
    "\n",
    "# Plot it\n",
    "plt.scatter(x=weather_data[\"Latitude\"], y=weather_data[\"Wind Speed\"], marker=\"o\", facecolors=\"green\", edgecolors=\"black\", alpha=0.8) \n",
    "\n",
    "# Save an image of the chart and print to screen\n",
    "plt.savefig(\"latitude_windspeed_plot.png\")\n",
    "\n",
    "# Print the scatter plot to the screen\n",
    "plt.show()  "
   ]
  },
  {
   "cell_type": "markdown",
   "metadata": {},
   "source": [
    "Three observable trends based on the data:\n",
    "-------------------------------------------------------------\n",
    "\n",
    "1. Temperatures north of the equator at this time of year (12/22/2018) range from -38 degrees F (fahrenheit) to 95 degrees F while temperatures south of the equator range from 40 degrees F to 108 degrees F. Therefore, I'd rather be south of the equator this time of year.\n",
    "\n",
    "2. Humidity & cloudiness appear to be equally distributed north or south of the equator at this time of year. There is no significant difference between humidity readings or cloudiness north or south of the equator. However, without proper statictical analysis I cannot state this unequivocally.\n",
    "\n",
    "3. Wind speeds appear to be equally distributed north or south of the equator at this time of year. There is no significant difference between wind speeds north or south of the equator. However, without proper statictical analysis I cannot state this unequivocally."
   ]
  }
 ],
 "metadata": {
  "anaconda-cloud": {},
  "kernelspec": {
   "display_name": "Python 3",
   "language": "python",
   "name": "python3"
  },
  "language_info": {
   "codemirror_mode": {
    "name": "ipython",
    "version": 3
   },
   "file_extension": ".py",
   "mimetype": "text/x-python",
   "name": "python",
   "nbconvert_exporter": "python",
   "pygments_lexer": "ipython3",
   "version": "3.7.0"
  }
 },
 "nbformat": 4,
 "nbformat_minor": 2
}
